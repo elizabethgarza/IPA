{
 "cells": [
  {
   "cell_type": "code",
   "execution_count": 4,
   "id": "56f4f538",
   "metadata": {},
   "outputs": [],
   "source": [
    "EsFeatures = {}"
   ]
  },
  {
   "cell_type": "code",
   "execution_count": 5,
   "id": "192689af",
   "metadata": {},
   "outputs": [],
   "source": [
    "EsFeatures['a'] = set(('low', 'front', 'lax', 'unrounded')) \n",
    "EsFeatures['e'] = set(('mid', 'front', 'tense', 'unrounded')) \n",
    "EsFeatures['i'] = set(('high', 'front', 'tense', 'unrounded')) \n",
    "EsFeatures['o'] = set(('mid', 'back', 'tense', 'rounded')) \n",
    "EsFeatures['u'] = set(('high', 'back', 'tense', 'rounded')) \n",
    "EsFeatures['ɛ'] = set(('mid', 'front', 'lax', 'unrounded')) \n",
    "EsFeatures['ɪ'] = set(('high', 'front', 'lax', 'unrounded')) \n",
    "EsFeatures['n'] = set(('nasal', 'alveolar', 'voiced'))\n",
    "EsFeatures['f'] = set(('fricative', 'labiodental', 'voiceless'))\n",
    "EsFeatures['m'] = set(('nasal', 'bilabial', 'voiced'))\n",
    "EsFeatures['b'] = set(('plosive', 'bilabial', 'voiced'))\n",
    "EsFeatures['ɾ'] = set(('tap', 'alveolar','voiced'))\n",
    "EsFeatures['k'] = set(('plosive', 'velar', 'voiceless'))\n",
    "EsFeatures['l'] = set(('lateral approximant', 'alveolar', 'voiced'))\n",
    "EsFeatures['d'] = set(('plosive','alveolar','voiced'))\n",
    "EsFeatures['v'] = set(('fricative', 'labiodental','voiceless'))\n",
    "EsFeatures['p'] = set(('plosive', 'bilabial','voiceless'))\n",
    "EsFeatures['j'] = set(('approximant', 'palatal','voiced'))\n",
    "EsFeatures['ð'] = set(('fricative', 'dental','voiced'))\n",
    "EsFeatures['w'] = set(('approximant','bilabial','voiced'))\n",
    "EsFeatures['ʃ'] = set(('fricative', 'post-alveolar','voiceless'))\n",
    "EsFeatures['t'] = set(('plosive', 'alveolar', 'voiceless'))\n",
    "EsFeatures['ɡ'] = set(('plosive', 'velar', 'voiced'))\n",
    "EsFeatures['ŋ'] = set(('nasal', 'velar','voiced'))\n",
    "EsFeatures['s'] = set(('fricative','alveolar', 'voiceless'))\n",
    "EsFeatures['d͡ʒ'] = set(('affricate', 'post-alveolar', 'voiced'))\n",
    "EsFeatures['t͡ʃ'] = set(('affricate', 'post-alveolar', 'voiceless'))\n",
    "EsFeatures['β'] = set(('fricative' 'bilabial', 'voiced'))\n",
    "EsFeatures['x'] = set(('fricative', 'velar', 'voiceless'))\n",
    "EsFeatures['ɣ'] = set(('fricative', 'velar', 'voiced'))\n",
    "EsFeatures['ʝ'] = set(('fricative', 'palatal', 'voiced'))\n",
    "EsFeatures['ʎ'] = set(('lateral approximant', 'palatal', 'voiced'))\n"
   ]
  },
  {
   "cell_type": "code",
   "execution_count": 6,
   "id": "c86f6b74",
   "metadata": {},
   "outputs": [],
   "source": [
    "esvowels = set(('a', 'e', 'i', 'o', 'u', 'ɛ', 'ɪ'))"
   ]
  },
  {
   "cell_type": "code",
   "execution_count": 7,
   "id": "c16ed20b",
   "metadata": {},
   "outputs": [],
   "source": [
    "escons = set(('n', 'f', 'm', 'b', 'ɾ', 'k','l', 'd', 'v', 'p', 'j', 'ð', 'w', 'ʃ', 't', 'ɡ', 'ŋ', 's', 'd͡ʒ', 't͡ʃ', 'β', 'x', 'ɣ', 'ʝ', 'ʎ'))"
   ]
  },
  {
   "cell_type": "code",
   "execution_count": 8,
   "id": "0715a0f9",
   "metadata": {},
   "outputs": [],
   "source": [
    "import numpy\n",
    "\n",
    "\n",
    "def PhonemePrep(token1, token2): \n",
    "\n",
    "    if len(token1) < len(token2): \n",
    "        for char in range(len(token1), len(token2)):\n",
    "            token1 = token1 + \" \"\n",
    "            token2 = token2\n",
    "    elif len(token1) > len(token2): \n",
    "        for char in range(len(token2), len(token1)): \n",
    "            token2 = token2 + \" \"\n",
    "            \n",
    "    return token1, token2\n",
    "\n",
    "def LD(token1, token2): \n",
    "    \n",
    "    pp = PhonemePrep(token1, token2)\n",
    "    token1 = pp[0]\n",
    "    token2 = pp[1]\n",
    "    \n",
    "    distances = numpy.zeros((len(token1) + 1, len(token2) + 1)) \n",
    "    for t1 in range(len(token1) + 1):\n",
    "        distances[t1][0] = t1\n",
    "    for t2 in range(len(token2) + 1):\n",
    "        distances[0][t2] = t2   \n",
    "    \n",
    "    \n",
    "    score = 0\n",
    "    i = 1\n",
    "    for t1, t2 in zip(token1, token2): \n",
    "        if t1 == t2:\n",
    "            distances[i][i] = score\n",
    "            i += 1\n",
    "            continue\n",
    "        else: \n",
    "            if t1 in escons: \n",
    "                if t2 in escons: \n",
    "                    if len(EsFeatures[t1]-EsFeatures[t2]) == 1: \n",
    "                        score += .3\n",
    "                        distances[i][i] = score\n",
    "                    elif len(EsFeatures[t1]-EsFeatures[t2]) == 2:\n",
    "                        score += .6\n",
    "                        distances[i][i] = score\n",
    "                    else: \n",
    "                        score += 1\n",
    "                        distances[i][i] = score\n",
    "                else: \n",
    "                    score += 1\n",
    "                    distances[i][i] = score\n",
    "            elif t1 in esvowels: \n",
    "                if t2 in esvowels: \n",
    "                    if len(EsFeatures[t1]-EsFeatures[t2]) == 1: \n",
    "                        score += .25\n",
    "                        distances[i][i] = score\n",
    "                    elif len(EsFeatures[t1]-EsFeatures[t2]) == 2:\n",
    "                        score += .5\n",
    "                        distances[i][i] = score\n",
    "                    elif len(EsFeatures[t1]-EsFeatures[t2]) == 2:\n",
    "                        score += .75\n",
    "                        distances[i][i] = score\n",
    "                    else: \n",
    "                        score += 1\n",
    "                        distances[i][i] = score\n",
    "                else: \n",
    "                    score += 1\n",
    "                    distances[i][i] = score\n",
    "            else:\n",
    "                score += 1\n",
    "                distances[i][i] = score\n",
    "            i += 1\n",
    "            \n",
    "    return score, distances\n",
    "\n",
    "\n",
    "\n",
    "    "
   ]
  },
  {
   "cell_type": "code",
   "execution_count": 14,
   "id": "b63467c1",
   "metadata": {},
   "outputs": [
    {
     "data": {
      "text/plain": [
       "(0,\n",
       " array([[0., 1., 2., 3.],\n",
       "        [1., 0., 0., 0.],\n",
       "        [2., 0., 0., 0.],\n",
       "        [3., 0., 0., 0.]]))"
      ]
     },
     "execution_count": 14,
     "metadata": {},
     "output_type": "execute_result"
    }
   ],
   "source": [
    "LD('pip', 'pip')"
   ]
  },
  {
   "cell_type": "code",
   "execution_count": 15,
   "id": "be6397a1",
   "metadata": {},
   "outputs": [
    {
     "data": {
      "text/plain": [
       "(0.3,\n",
       " array([[0. , 1. , 2. , 3. ],\n",
       "        [1. , 0.3, 0. , 0. ],\n",
       "        [2. , 0. , 0.3, 0. ],\n",
       "        [3. , 0. , 0. , 0.3]]))"
      ]
     },
     "execution_count": 15,
     "metadata": {},
     "output_type": "execute_result"
    }
   ],
   "source": [
    "LD('bip', 'pip')"
   ]
  },
  {
   "cell_type": "code",
   "execution_count": 9,
   "id": "079fbdff",
   "metadata": {},
   "outputs": [
    {
     "data": {
      "text/plain": [
       "(1.55,\n",
       " array([[0.  , 1.  , 2.  , 3.  , 4.  ],\n",
       "        [1.  , 0.3 , 0.  , 0.  , 0.  ],\n",
       "        [2.  , 0.  , 0.55, 0.  , 0.  ],\n",
       "        [3.  , 0.  , 0.  , 0.55, 0.  ],\n",
       "        [4.  , 0.  , 0.  , 0.  , 1.55]]))"
      ]
     },
     "execution_count": 9,
     "metadata": {},
     "output_type": "execute_result"
    }
   ],
   "source": [
    "LD('pebb','bib ')\n"
   ]
  },
  {
   "cell_type": "code",
   "execution_count": 10,
   "id": "6a3e0463",
   "metadata": {},
   "outputs": [
    {
     "data": {
      "text/plain": [
       "(1.55,\n",
       " array([[0.  , 1.  , 2.  , 3.  , 4.  ],\n",
       "        [1.  , 0.3 , 0.  , 0.  , 0.  ],\n",
       "        [2.  , 0.  , 0.55, 0.  , 0.  ],\n",
       "        [3.  , 0.  , 0.  , 0.55, 0.  ],\n",
       "        [4.  , 0.  , 0.  , 0.  , 1.55]]))"
      ]
     },
     "execution_count": 10,
     "metadata": {},
     "output_type": "execute_result"
    }
   ],
   "source": [
    "LD('bib', 'pebb')"
   ]
  },
  {
   "cell_type": "code",
   "execution_count": 11,
   "id": "49e5c142",
   "metadata": {},
   "outputs": [
    {
     "data": {
      "text/plain": [
       "(3,\n",
       " array([[0., 1., 2., 3., 4., 5., 6., 7.],\n",
       "        [1., 0., 0., 0., 0., 0., 0., 0.],\n",
       "        [2., 0., 0., 0., 0., 0., 0., 0.],\n",
       "        [3., 0., 0., 0., 0., 0., 0., 0.],\n",
       "        [4., 0., 0., 0., 0., 0., 0., 0.],\n",
       "        [5., 0., 0., 0., 0., 1., 0., 0.],\n",
       "        [6., 0., 0., 0., 0., 0., 2., 0.],\n",
       "        [7., 0., 0., 0., 0., 0., 0., 3.]]))"
      ]
     },
     "execution_count": 11,
     "metadata": {},
     "output_type": "execute_result"
    }
   ],
   "source": [
    "LD('bib', 'bib bib')"
   ]
  },
  {
   "cell_type": "code",
   "execution_count": 13,
   "id": "b40184a6",
   "metadata": {
    "scrolled": true
   },
   "outputs": [
    {
     "data": {
      "text/plain": [
       "(3,\n",
       " array([[0., 1., 2., 3., 4., 5., 6., 7.],\n",
       "        [1., 0., 0., 0., 0., 0., 0., 0.],\n",
       "        [2., 0., 0., 0., 0., 0., 0., 0.],\n",
       "        [3., 0., 0., 0., 0., 0., 0., 0.],\n",
       "        [4., 0., 0., 0., 0., 0., 0., 0.],\n",
       "        [5., 0., 0., 0., 0., 1., 0., 0.],\n",
       "        [6., 0., 0., 0., 0., 0., 2., 0.],\n",
       "        [7., 0., 0., 0., 0., 0., 0., 3.]]))"
      ]
     },
     "execution_count": 13,
     "metadata": {},
     "output_type": "execute_result"
    }
   ],
   "source": [
    "LD('bib bib', 'bib')"
   ]
  }
 ],
 "metadata": {
  "kernelspec": {
   "display_name": "Python 3 (ipykernel)",
   "language": "python",
   "name": "python3"
  },
  "language_info": {
   "codemirror_mode": {
    "name": "ipython",
    "version": 3
   },
   "file_extension": ".py",
   "mimetype": "text/x-python",
   "name": "python",
   "nbconvert_exporter": "python",
   "pygments_lexer": "ipython3",
   "version": "3.9.5"
  }
 },
 "nbformat": 4,
 "nbformat_minor": 5
}
